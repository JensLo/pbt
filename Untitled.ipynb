{
 "cells": [
  {
   "cell_type": "code",
   "execution_count": 1,
   "metadata": {},
   "outputs": [],
   "source": [
    "import os\n",
    "import sys\n",
    "import pandas as pd\n",
    "import time\n",
    "import numpy as np\n",
    "\n",
    "sys.path.append(os.path.normpath(os.getcwd()+'/../modules/'))\n",
    "\n",
    "import ccxt\n",
    "import configparser"
   ]
  },
  {
   "cell_type": "code",
   "execution_count": 2,
   "metadata": {},
   "outputs": [],
   "source": [
    "from pbt.portfolio import Portfolio\n",
    "from pbt.transaction import Transaction\n",
    "from pbt.exchange.equity import Equity"
   ]
  },
  {
   "cell_type": "code",
   "execution_count": 3,
   "metadata": {
    "collapsed": true
   },
   "outputs": [],
   "source": [
    "df_trans = pd.DataFrame.from_csv(r'/Users/jenslorrmann/Downloads/fullOrders.csv',index_col=7).sort_index()"
   ]
  },
  {
   "cell_type": "code",
   "execution_count": 4,
   "metadata": {},
   "outputs": [
    {
     "data": {
      "text/html": [
       "<div>\n",
       "<style>\n",
       "    .dataframe thead tr:only-child th {\n",
       "        text-align: right;\n",
       "    }\n",
       "\n",
       "    .dataframe thead th {\n",
       "        text-align: left;\n",
       "    }\n",
       "\n",
       "    .dataframe tbody tr th {\n",
       "        vertical-align: top;\n",
       "    }\n",
       "</style>\n",
       "<table border=\"1\" class=\"dataframe\">\n",
       "  <thead>\n",
       "    <tr style=\"text-align: right;\">\n",
       "      <th></th>\n",
       "      <th>OrderUuid</th>\n",
       "      <th>Exchange</th>\n",
       "      <th>Type</th>\n",
       "      <th>Quantity</th>\n",
       "      <th>Limit</th>\n",
       "      <th>CommissionPaid</th>\n",
       "      <th>Price</th>\n",
       "      <th>Closed</th>\n",
       "    </tr>\n",
       "    <tr>\n",
       "      <th>Opened</th>\n",
       "      <th></th>\n",
       "      <th></th>\n",
       "      <th></th>\n",
       "      <th></th>\n",
       "      <th></th>\n",
       "      <th></th>\n",
       "      <th></th>\n",
       "      <th></th>\n",
       "    </tr>\n",
       "  </thead>\n",
       "  <tbody>\n",
       "    <tr>\n",
       "      <th>2017-09-30 23:01:45</th>\n",
       "      <td>398dde76-108a-4aa7-adda-8420f67bb315</td>\n",
       "      <td>BTC-XMR</td>\n",
       "      <td>LIMIT_SELL</td>\n",
       "      <td>6.450000</td>\n",
       "      <td>0.022149</td>\n",
       "      <td>0.000357</td>\n",
       "      <td>0.142858</td>\n",
       "      <td>9/30/2017 11:04:07 PM</td>\n",
       "    </tr>\n",
       "    <tr>\n",
       "      <th>2017-09-30 23:06:21</th>\n",
       "      <td>bebfd8ce-ec0f-46a7-8db5-06c35aa8c124</td>\n",
       "      <td>BTC-NEO</td>\n",
       "      <td>LIMIT_BUY</td>\n",
       "      <td>18.038692</td>\n",
       "      <td>0.007880</td>\n",
       "      <td>0.000355</td>\n",
       "      <td>0.142145</td>\n",
       "      <td>9/30/2017 11:06:23 PM</td>\n",
       "    </tr>\n",
       "    <tr>\n",
       "      <th>2017-10-16 10:46:17</th>\n",
       "      <td>33ef45ca-9287-4321-9a66-59b83eda7944</td>\n",
       "      <td>BTC-XLM</td>\n",
       "      <td>LIMIT_SELL</td>\n",
       "      <td>19999.999980</td>\n",
       "      <td>0.000008</td>\n",
       "      <td>0.000415</td>\n",
       "      <td>0.166000</td>\n",
       "      <td>10/16/2017 10:46:23 AM</td>\n",
       "    </tr>\n",
       "    <tr>\n",
       "      <th>2017-10-17 17:35:01</th>\n",
       "      <td>950c0242-47e1-41ea-b903-28686408cc1a</td>\n",
       "      <td>BTC-NXC</td>\n",
       "      <td>LIMIT_BUY</td>\n",
       "      <td>1300.000000</td>\n",
       "      <td>0.000039</td>\n",
       "      <td>0.000125</td>\n",
       "      <td>0.050170</td>\n",
       "      <td>10/17/2017 5:35:01 PM</td>\n",
       "    </tr>\n",
       "    <tr>\n",
       "      <th>2017-10-18 10:02:48</th>\n",
       "      <td>6599c2bb-d527-4070-86e3-5f41fc662016</td>\n",
       "      <td>BTC-PINK</td>\n",
       "      <td>LIMIT_BUY</td>\n",
       "      <td>15000.000000</td>\n",
       "      <td>0.000004</td>\n",
       "      <td>0.000148</td>\n",
       "      <td>0.059100</td>\n",
       "      <td>10/18/2017 11:23:17 AM</td>\n",
       "    </tr>\n",
       "  </tbody>\n",
       "</table>\n",
       "</div>"
      ],
      "text/plain": [
       "                                                OrderUuid  Exchange  \\\n",
       "Opened                                                                \n",
       "2017-09-30 23:01:45  398dde76-108a-4aa7-adda-8420f67bb315   BTC-XMR   \n",
       "2017-09-30 23:06:21  bebfd8ce-ec0f-46a7-8db5-06c35aa8c124   BTC-NEO   \n",
       "2017-10-16 10:46:17  33ef45ca-9287-4321-9a66-59b83eda7944   BTC-XLM   \n",
       "2017-10-17 17:35:01  950c0242-47e1-41ea-b903-28686408cc1a   BTC-NXC   \n",
       "2017-10-18 10:02:48  6599c2bb-d527-4070-86e3-5f41fc662016  BTC-PINK   \n",
       "\n",
       "                           Type      Quantity     Limit  CommissionPaid  \\\n",
       "Opened                                                                    \n",
       "2017-09-30 23:01:45  LIMIT_SELL      6.450000  0.022149        0.000357   \n",
       "2017-09-30 23:06:21   LIMIT_BUY     18.038692  0.007880        0.000355   \n",
       "2017-10-16 10:46:17  LIMIT_SELL  19999.999980  0.000008        0.000415   \n",
       "2017-10-17 17:35:01   LIMIT_BUY   1300.000000  0.000039        0.000125   \n",
       "2017-10-18 10:02:48   LIMIT_BUY  15000.000000  0.000004        0.000148   \n",
       "\n",
       "                        Price                  Closed  \n",
       "Opened                                                 \n",
       "2017-09-30 23:01:45  0.142858   9/30/2017 11:04:07 PM  \n",
       "2017-09-30 23:06:21  0.142145   9/30/2017 11:06:23 PM  \n",
       "2017-10-16 10:46:17  0.166000  10/16/2017 10:46:23 AM  \n",
       "2017-10-17 17:35:01  0.050170   10/17/2017 5:35:01 PM  \n",
       "2017-10-18 10:02:48  0.059100  10/18/2017 11:23:17 AM  "
      ]
     },
     "execution_count": 4,
     "metadata": {},
     "output_type": "execute_result"
    }
   ],
   "source": [
    "df_trans.head()"
   ]
  },
  {
   "cell_type": "code",
   "execution_count": 5,
   "metadata": {},
   "outputs": [],
   "source": [
    "depos = [(pd.to_datetime('11/14/2017')- pd.DateOffset(hours=1),'MLN',1.37287000),\n",
    "(pd.to_datetime('10/16/2017')- pd.DateOffset(hours=1),'XLM',19999.99998000),\n",
    "(pd.to_datetime('10/01/2017')- pd.DateOffset(hours=1),'XMR',6.45000000)]\n",
    "\n",
    "\n",
    "df_depos = pd.DataFrame(np.array(depos)[:,1:], index=np.array(depos)[:,0], columns=('Asset', 'quantity')).sort_index()"
   ]
  },
  {
   "cell_type": "code",
   "execution_count": 6,
   "metadata": {},
   "outputs": [
    {
     "data": {
      "text/html": [
       "<div>\n",
       "<style>\n",
       "    .dataframe thead tr:only-child th {\n",
       "        text-align: right;\n",
       "    }\n",
       "\n",
       "    .dataframe thead th {\n",
       "        text-align: left;\n",
       "    }\n",
       "\n",
       "    .dataframe tbody tr th {\n",
       "        vertical-align: top;\n",
       "    }\n",
       "</style>\n",
       "<table border=\"1\" class=\"dataframe\">\n",
       "  <thead>\n",
       "    <tr style=\"text-align: right;\">\n",
       "      <th></th>\n",
       "      <th>Asset</th>\n",
       "      <th>quantity</th>\n",
       "    </tr>\n",
       "  </thead>\n",
       "  <tbody>\n",
       "    <tr>\n",
       "      <th>2017-09-30 23:00:00</th>\n",
       "      <td>XMR</td>\n",
       "      <td>6.45</td>\n",
       "    </tr>\n",
       "    <tr>\n",
       "      <th>2017-10-15 23:00:00</th>\n",
       "      <td>XLM</td>\n",
       "      <td>20000</td>\n",
       "    </tr>\n",
       "    <tr>\n",
       "      <th>2017-11-13 23:00:00</th>\n",
       "      <td>MLN</td>\n",
       "      <td>1.37287</td>\n",
       "    </tr>\n",
       "  </tbody>\n",
       "</table>\n",
       "</div>"
      ],
      "text/plain": [
       "                    Asset quantity\n",
       "2017-09-30 23:00:00   XMR     6.45\n",
       "2017-10-15 23:00:00   XLM    20000\n",
       "2017-11-13 23:00:00   MLN  1.37287"
      ]
     },
     "execution_count": 6,
     "metadata": {},
     "output_type": "execute_result"
    }
   ],
   "source": [
    "df_depos.head()"
   ]
  },
  {
   "cell_type": "code",
   "execution_count": 7,
   "metadata": {},
   "outputs": [
    {
     "data": {
      "text/plain": [
       "OrderUuid         398dde76-108a-4aa7-adda-8420f67bb315\n",
       "Exchange                                       BTC-XMR\n",
       "Type                                        LIMIT_SELL\n",
       "Quantity                                          6.45\n",
       "Limit                                        0.0221486\n",
       "CommissionPaid                              0.00035714\n",
       "Price                                         0.142858\n",
       "Closed                           9/30/2017 11:04:07 PM\n",
       "Name: 2017-09-30 23:01:45, dtype: object"
      ]
     },
     "execution_count": 7,
     "metadata": {},
     "output_type": "execute_result"
    }
   ],
   "source": [
    "df_trans.iloc[0]"
   ]
  },
  {
   "cell_type": "code",
   "execution_count": 8,
   "metadata": {},
   "outputs": [
    {
     "name": "stdout",
     "output_type": "stream",
     "text": [
      "Transaction(asset=XMR/BTC, quantity=6.45, dt=2017-09-30 23:00:00, price=0, order_id=0, type=1)\n",
      "Transaction(asset=XMR/BTC, quantity=-6.45, dt=2017-09-30 23:01:45, price=0.0221486, order_id=0, type=2)\n",
      "Transaction(asset=NEO/BTC, quantity=18.03869242, dt=2017-09-30 23:06:21, price=0.00788001, order_id=0, type=1)\n",
      "Transaction(asset=XLM/BTC, quantity=19999.99998, dt=2017-10-15 23:00:00, price=0, order_id=0, type=1)\n",
      "Transaction(asset=XLM/BTC, quantity=-19999.99998, dt=2017-10-16 10:46:17, price=8.3e-06, order_id=0, type=2)\n",
      "Transaction(asset=NXC/BTC, quantity=1300.0, dt=2017-10-17 17:35:01, price=3.868e-05, order_id=0, type=1)\n",
      "Transaction(asset=PINK/BTC, quantity=15000.0, dt=2017-10-18 10:02:48, price=3.94e-06, order_id=0, type=1)\n",
      "Transaction(asset=AGRS/BTC, quantity=820.28337062, dt=2017-10-18 15:34:54, price=6.705e-05, order_id=0, type=1)\n",
      "Transaction(asset=ENRG/BTC, quantity=69.5, dt=2017-10-21 08:56:24, price=2.501e-05, order_id=0, type=1)\n",
      "Transaction(asset=NEO/BTC, quantity=-2.31425768, dt=2017-10-21 13:28:25, price=0.00432104, order_id=0, type=2)\n",
      "Transaction(asset=RDD/BTC, quantity=61875.0, dt=2017-10-21 13:30:03, price=1.6e-07, order_id=0, type=1)\n",
      "Transaction(asset=RDD/BTC, quantity=-61875.0, dt=2017-10-25 07:26:27, price=1.8e-07, order_id=0, type=2)\n",
      "Transaction(asset=NXC/BTC, quantity=-1300.0, dt=2017-10-26 14:18:32, price=4.159e-05, order_id=0, type=2)\n",
      "Transaction(asset=1ST/BTC, quantity=200.0, dt=2017-11-07 11:43:33, price=5.556e-05, order_id=0, type=1)\n",
      "Transaction(asset=1ST/BTC, quantity=-200.0, dt=2017-11-07 12:42:26, price=5.764e-05, order_id=0, type=2)\n",
      "Transaction(asset=NEO/BTC, quantity=5.0, dt=2017-11-11 18:06:20, price=0.00455, order_id=0, type=1)\n",
      "Transaction(asset=ADX/BTC, quantity=150.0, dt=2017-11-12 00:26:32, price=0.00014665, order_id=0, type=1)\n",
      "Transaction(asset=OK/BTC, quantity=100.0, dt=2017-11-13 11:14:24, price=6.695e-05, order_id=0, type=1)\n",
      "Transaction(asset=SYS/BTC, quantity=150.0, dt=2017-11-13 11:26:59, price=3.601e-05, order_id=0, type=1)\n",
      "Transaction(asset=MLN/BTC, quantity=1.37287, dt=2017-11-13 23:00:00, price=0, order_id=0, type=1)\n",
      "Transaction(asset=MLN/BTC, quantity=-0.5, dt=2017-11-14 12:01:06, price=0.0129, order_id=0, type=2)\n",
      "Transaction(asset=MLN/BTC, quantity=-0.87287, dt=2017-11-14 12:03:12, price=0.01223054, order_id=0, type=2)\n",
      "Transaction(asset=OK/BTC, quantity=100.0, dt=2017-11-14 14:31:17, price=7.597e-05, order_id=0, type=1)\n",
      "Transaction(asset=OK/BTC, quantity=100.0, dt=2017-11-14 14:33:41, price=7.732e-05, order_id=0, type=1)\n",
      "Transaction(asset=OK/BTC, quantity=100.0, dt=2017-11-14 15:47:29, price=7.24e-05, order_id=0, type=1)\n",
      "Transaction(asset=ENRG/BTC, quantity=-69.5, dt=2017-11-15 15:24:54, price=1.536e-05, order_id=0, type=2)\n",
      "Transaction(asset=ADX/BTC, quantity=-150.0, dt=2017-11-15 15:28:29, price=0.00013594, order_id=0, type=2)\n",
      "Transaction(asset=NEO/BTC, quantity=2.0, dt=2017-11-15 15:30:09, price=0.00395, order_id=0, type=1)\n",
      "Transaction(asset=NEO/BTC, quantity=2.0, dt=2017-11-16 14:56:04, price=0.003821, order_id=0, type=1)\n",
      "Transaction(asset=WAVES/BTC, quantity=12.0, dt=2017-11-16 14:57:51, price=0.000636, order_id=0, type=1)\n",
      "Transaction(asset=ADX/BTC, quantity=9.5, dt=2017-11-16 16:22:28, price=0.00012966, order_id=0, type=1)\n"
     ]
    }
   ],
   "source": [
    "port = Portfolio(pd.to_datetime('09/30/2017'), )\n",
    "\n",
    "depo_c = 0\n",
    "trans_c = 0\n",
    "while(1):\n",
    "    if trans_c < len(df_trans):\n",
    "        try:\n",
    "            if df_trans.iloc[trans_c].name < df_depos.iloc[depo_c].name:\n",
    "                dire =  1 if df_trans.iloc[trans_c]['Type'] == 'LIMIT_BUY' else -1\n",
    "                ass =  Equity(df_trans.iloc[trans_c]['Exchange'].split('-')[1]+'/BTC',\n",
    "                             df_trans.iloc[trans_c]['Exchange'].split('-')[1]+'/BTC',\n",
    "                             'BITTREX', \n",
    "                             False)\n",
    "                trans = Transaction(ass,\n",
    "                                    df_trans.iloc[trans_c]['Limit'], \n",
    "                                    dire*df_trans.iloc[trans_c]['Quantity'], \n",
    "                                    df_trans.iloc[trans_c].name,\n",
    "                                    0.0, 0)\n",
    "                print(trans)\n",
    "\n",
    "                trans_c += 1\n",
    "            else:\n",
    "                ass =  Equity(df_depos.iloc[depo_c]['Asset']+'/BTC',\n",
    "                              df_depos.iloc[depo_c]['Asset']+'/BTC',\n",
    "                             'BITTREX', \n",
    "                             False)\n",
    "                trans = Transaction(ass,\n",
    "                                    0, \n",
    "                                    df_depos.iloc[depo_c]['quantity'], \n",
    "                                    df_depos.iloc[depo_c].name,\n",
    "                                    0.0,\n",
    "                                    0)\n",
    "                depo_c += 1\n",
    "                print(trans)\n",
    "        except:\n",
    "            dire =  1 if df_trans.iloc[trans_c]['Type'] == 'LIMIT_BUY' else -1\n",
    "            ass =  Equity(df_trans.iloc[trans_c]['Exchange'].split('-')[1]+'/BTC',\n",
    "                             df_trans.iloc[trans_c]['Exchange'].split('-')[1]+'/BTC',\n",
    "                             'BITTREX', \n",
    "                             False)\n",
    "            trans = Transaction(ass,\n",
    "                                df_trans.iloc[trans_c]['Limit'], \n",
    "                                dire*df_trans.iloc[trans_c]['Quantity'], \n",
    "                                df_trans.iloc[trans_c].name,\n",
    "                                0.0, 0)\n",
    "            print(trans)\n",
    "\n",
    "            trans_c += 1\n",
    "\n",
    "\n",
    "        port.transact_asset(trans)\n",
    "    else:\n",
    "        break\n",
    "    \n",
    "    #print(port.total_cash)"
   ]
  },
  {
   "cell_type": "code",
   "execution_count": 9,
   "metadata": {
    "collapsed": true
   },
   "outputs": [],
   "source": [
    "bittrex = ccxt.bittrex({\n",
    "    'apiKey': \"XXX\",\n",
    "    'secret': \"XXX\",\n",
    "    'verbose': False,  # switch it to False if you don't want the HTTP log\n",
    "})"
   ]
  },
  {
   "cell_type": "code",
   "execution_count": 10,
   "metadata": {},
   "outputs": [],
   "source": [
    "for asset in port.pos_handler.positions.keys():\n",
    "    v = bittrex.fetch_ticker(symbol=asset.name)\n",
    "    port.update_market_value_of_asset(asset, v['bid'], pd.to_datetime(v['timestamp'], unit='ms'))"
   ]
  },
  {
   "cell_type": "code",
   "execution_count": 11,
   "metadata": {},
   "outputs": [
    {
     "name": "stdout",
     "output_type": "stream",
     "text": [
      "\u001b[1;36m\n",
      "Portfolio Holdings | None - None\n",
      "\n",
      "\u001b[0m*==================================================================================================*\n",
      "| Holding | Quantity | Price | Change |      Book Cost |   Market Value |            Gain          | \n",
      "*==================================================================================================*\n",
      "| 1ST/BTC |      200 |     - |      - |     0.01111200 |     0.00907000 |   \u001b[1;31m-0.00204200\u001b[0m    \u001b[1;31m-18.38%\u001b[0m |\n",
      "| 1ST/BTC |     -200 |     - |      - |    -0.01152800 |    -0.00907000 |    \u001b[1;32m0.00245800\u001b[0m    \u001b[1;32m-21.32%\u001b[0m |\n",
      "| ADX/BTC |      150 |     - |      - |     0.02199750 |     0.02028000 |   \u001b[1;31m-0.00171750\u001b[0m     \u001b[1;31m-7.81%\u001b[0m |\n",
      "| ADX/BTC |     -150 |     - |      - |    -0.02039100 |    -0.02028000 |    \u001b[1;32m0.00011100\u001b[0m     \u001b[1;32m-0.54%\u001b[0m |\n",
      "| ADX/BTC |        9 |     - |      - |     0.00123177 |     0.00128440 |    \u001b[1;32m0.00005263\u001b[0m      \u001b[1;32m4.27%\u001b[0m |\n",
      "| AGRS/BTC |      820 |     - |      - |     0.05500000 |     0.03901268 |   \u001b[1;31m-0.01598732\u001b[0m    \u001b[1;31m-29.07%\u001b[0m |\n",
      "| ENRG/BTC |       69 |     - |      - |     0.00173819 |     0.00092713 |   \u001b[1;31m-0.00081106\u001b[0m    \u001b[1;31m-46.66%\u001b[0m |\n",
      "| ENRG/BTC |      -69 |     - |      - |    -0.00106752 |    -0.00092713 |    \u001b[1;32m0.00014039\u001b[0m    \u001b[1;32m-13.15%\u001b[0m |\n",
      "| MLN/BTC |        1 |     - |      - |     0.00000000 |     0.01163097 |    \u001b[1;32m0.01163097\u001b[0m      \u001b[1;32m0.00%\u001b[0m |\n",
      "| MLN/BTC |        0 |     - |      - |    -0.00645000 |    -0.00423601 |    \u001b[1;32m0.00221399\u001b[0m    \u001b[1;32m-34.33%\u001b[0m |\n",
      "| MLN/BTC |        0 |     - |      - |    -0.01067567 |    -0.00739496 |    \u001b[1;32m0.00328071\u001b[0m    \u001b[1;32m-30.73%\u001b[0m |\n",
      "| NEO/BTC |       18 |     - |      - |     0.14214508 |     0.09885203 |   \u001b[1;31m-0.04329304\u001b[0m    \u001b[1;31m-30.46%\u001b[0m |\n",
      "| NEO/BTC |       -2 |     - |      - |    -0.01000000 |    -0.01268213 |   \u001b[1;31m-0.00268213\u001b[0m     \u001b[1;31m26.82%\u001b[0m |\n",
      "| NEO/BTC |        5 |     - |      - |     0.02275000 |     0.02740000 |    \u001b[1;32m0.00465000\u001b[0m     \u001b[1;32m20.44%\u001b[0m |\n",
      "| NEO/BTC |        2 |     - |      - |     0.00790000 |     0.01096000 |    \u001b[1;32m0.00306000\u001b[0m     \u001b[1;32m38.73%\u001b[0m |\n",
      "| NEO/BTC |        2 |     - |      - |     0.00764200 |     0.01096000 |    \u001b[1;32m0.00331800\u001b[0m     \u001b[1;32m43.42%\u001b[0m |\n",
      "| NXC/BTC |     1300 |     - |      - |     0.05028400 |     0.02726100 |   \u001b[1;31m-0.02302300\u001b[0m    \u001b[1;31m-45.79%\u001b[0m |\n",
      "| NXC/BTC |    -1300 |     - |      - |    -0.05406700 |    -0.02726100 |    \u001b[1;32m0.02680600\u001b[0m    \u001b[1;32m-49.58%\u001b[0m |\n",
      "|  OK/BTC |      100 |     - |      - |     0.00669500 |     0.00576500 |   \u001b[1;31m-0.00093000\u001b[0m    \u001b[1;31m-13.89%\u001b[0m |\n",
      "|  OK/BTC |      100 |     - |      - |     0.00759700 |     0.00576500 |   \u001b[1;31m-0.00183200\u001b[0m    \u001b[1;31m-24.11%\u001b[0m |\n",
      "|  OK/BTC |      100 |     - |      - |     0.00773200 |     0.00576500 |   \u001b[1;31m-0.00196700\u001b[0m    \u001b[1;31m-25.44%\u001b[0m |\n",
      "|  OK/BTC |      100 |     - |      - |     0.00724000 |     0.00576500 |   \u001b[1;31m-0.00147500\u001b[0m    \u001b[1;31m-20.37%\u001b[0m |\n",
      "| PINK/BTC |    15000 |     - |      - |     0.05910000 |     0.04185000 |   \u001b[1;31m-0.01725000\u001b[0m    \u001b[1;31m-29.19%\u001b[0m |\n",
      "| RDD/BTC |    61875 |     - |      - |     0.00990000 |     0.00866250 |   \u001b[1;31m-0.00123750\u001b[0m    \u001b[1;31m-12.50%\u001b[0m |\n",
      "| RDD/BTC |   -61875 |     - |      - |    -0.01113750 |    -0.00866250 |    \u001b[1;32m0.00247500\u001b[0m    \u001b[1;32m-22.22%\u001b[0m |\n",
      "| SYS/BTC |      150 |     - |      - |     0.00540150 |     0.00420000 |   \u001b[1;31m-0.00120150\u001b[0m    \u001b[1;31m-22.24%\u001b[0m |\n",
      "| WAVES/BTC |       12 |     - |      - |     0.00763200 |     0.00837960 |    \u001b[1;32m0.00074760\u001b[0m      \u001b[1;32m9.80%\u001b[0m |\n",
      "| XLM/BTC |    19999 |     - |      - |     0.00000000 |     0.09700000 |    \u001b[1;32m0.09700000\u001b[0m      \u001b[1;32m0.00%\u001b[0m |\n",
      "| XLM/BTC |   -19999 |     - |      - |    -0.16600000 |    -0.09700000 |    \u001b[1;32m0.06900000\u001b[0m    \u001b[1;32m-41.57%\u001b[0m |\n",
      "| XMR/BTC |        6 |     - |      - |     0.00000000 |     0.10965129 |    \u001b[1;32m0.10965129\u001b[0m      \u001b[1;32m0.00%\u001b[0m |\n",
      "| XMR/BTC |       -6 |     - |      - |    -0.14285847 |    -0.10965129 |    \u001b[1;32m0.03320718\u001b[0m    \u001b[1;32m-23.24%\u001b[0m |\n",
      "*==================================================================================================*\n",
      "|   Total |                           |    -0.00107712 |     0.25327658 |    \u001b[1;32m0.25435370\u001b[0m \u001b[1;32m-23614.25%\u001b[0m |\n",
      "*==================================================================================================*\n",
      "\n"
     ]
    }
   ],
   "source": [
    "port.holdings_to_console()"
   ]
  },
  {
   "cell_type": "code",
   "execution_count": 12,
   "metadata": {},
   "outputs": [
    {
     "data": {
      "text/plain": [
       "-1981.4186214245844"
      ]
     },
     "execution_count": 12,
     "metadata": {},
     "output_type": "execute_result"
    }
   ],
   "source": [
    "(port.pos_handler.total_book_cost()- port.pos_handler.total_market_value())*7790.01299498"
   ]
  },
  {
   "cell_type": "code",
   "execution_count": 13,
   "metadata": {},
   "outputs": [
    {
     "data": {
      "text/plain": [
       "7790.0"
      ]
     },
     "execution_count": 13,
     "metadata": {},
     "output_type": "execute_result"
    }
   ],
   "source": [
    "bittrex.fetch_ticker('BTC/USDT')['bid']"
   ]
  },
  {
   "cell_type": "code",
   "execution_count": 14,
   "metadata": {},
   "outputs": [
    {
     "data": {
      "text/plain": [
       "6.012643630045372"
      ]
     },
     "execution_count": 14,
     "metadata": {},
     "output_type": "execute_result"
    }
   ],
   "source": [
    "0.00077184000000000107*7790.01299498"
   ]
  },
  {
   "cell_type": "code",
   "execution_count": null,
   "metadata": {
    "collapsed": true
   },
   "outputs": [],
   "source": []
  }
 ],
 "metadata": {
  "kernelspec": {
   "display_name": "Python 3",
   "language": "python",
   "name": "python3"
  },
  "language_info": {
   "codemirror_mode": {
    "name": "ipython",
    "version": 3
   },
   "file_extension": ".py",
   "mimetype": "text/x-python",
   "name": "python",
   "nbconvert_exporter": "python",
   "pygments_lexer": "ipython3",
   "version": "3.6.3"
  }
 },
 "nbformat": 4,
 "nbformat_minor": 2
}
